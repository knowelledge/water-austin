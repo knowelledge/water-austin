{
 "cells": [
  {
   "cell_type": "code",
   "execution_count": 1,
   "metadata": {
    "collapsed": true
   },
   "outputs": [],
   "source": [
    "%matplotlib inline\n",
    "import matplotlib.pyplot as plt\n",
    "from matplotlib.ticker import FuncFormatter\n",
    "from pandas.plotting import scatter_matrix\n",
    "import warnings\n",
    "warnings.filterwarnings('ignore')\n",
    "import pandas as pd\n",
    "pd.set_option('display.max_columns', None)\n",
    "import numpy as np\n",
    "plt.style.use('bmh')\n",
    "from sklearn.linear_model import LinearRegression\n",
    "from sklearn.linear_model import Lasso\n",
    "from sklearn.linear_model import LassoCV\n",
    "from sklearn.metrics import confusion_matrix\n",
    "from sklearn.ensemble import RandomForestClassifier\n",
    "from sklearn.pipeline import Pipeline\n",
    "from sklearn.preprocessing import StandardScaler\n",
    "from sklearn.svm import SVC, LinearSVC\n",
    "from sklearn.model_selection import GridSearchCV, RandomizedSearchCV\n",
    "from sklearn.metrics import precision_score, recall_score, accuracy_score\n",
    "from sklearn.model_selection import train_test_split\n",
    "from sklearn.ensemble import RandomForestRegressor\n",
    "from sklearn import metrics\n",
    "from sklearn.metrics import r2_score\n",
    "from sklearn.metrics import mean_squared_error\n",
    "import math"
   ]
  },
  {
   "cell_type": "code",
   "execution_count": 2,
   "metadata": {
    "collapsed": true
   },
   "outputs": [],
   "source": [
    "'''\n",
    "Residential Water Consumption\n",
    "'''\n",
    "# Read in residential water consumption data file\n",
    "residential = pd.read_csv('/Users/nowellk/projects/water-austin/data/Austin_Water_-_Residential_Water_Consumption.csv')\n",
    "\n",
    "# Rename columns without spaces\n",
    "residential.rename(columns={'Year Month': 'year_month', 'Postal Code': 'postal_code', 'Customer Class': 'customer_class', 'Total Gallons': 'total_gallons'}, inplace=True)\n",
    "\n",
    "# Remove bad data rows\n",
    "residential = residential[residential['year_month'] != 204406] #remove outlier\n",
    "residential = residential[residential['year_month'] != 201710] #remove partial consumption data for Oct 2017\n",
    "\n",
    "# Recognize Year Month number as date\n",
    "residential['year_month'] = pd.to_datetime(residential['year_month'], format = '%Y%m')\n",
    "\n",
    "# Extract date parts\n",
    "residential['year'] = residential.year_month.dt.year.astype(int)\n",
    "residential['month'] = residential.year_month.dt.month.astype(int)\n",
    "\n",
    "# Remove unused column\n",
    "residential = residential.drop(['year_month'], axis=1)"
   ]
  },
  {
   "cell_type": "code",
   "execution_count": 3,
   "metadata": {
    "collapsed": true
   },
   "outputs": [],
   "source": [
    "'''\n",
    "Commercial Water Consumption\n",
    "'''\n",
    "# Read in commercial water consumption data file\n",
    "commercial = pd.read_csv('/Users/nowellk/projects/water-austin/data/Austin_Water_-_Commercial_Water_Consumption.csv')\n",
    "\n",
    "# Rename columns without spaces\n",
    "commercial.rename(columns={'Year Month': 'year_month', 'Postal Code': 'postal_code', 'Customer Class': 'customer_class', 'Total Gallons': 'total_gallons'}, inplace=True)\n",
    "\n",
    "# Recognize Year Month number as date\n",
    "commercial['year_month'] = pd.to_datetime(commercial['year_month'], format = '%Y%m')\n",
    "\n",
    "# Extract date parts\n",
    "commercial['month'] = pd.to_datetime(commercial['year_month'], format = '%Y%m').dt.month\n",
    "commercial['year'] = pd.to_datetime(commercial['year_month'], format = '%Y%m').dt.year\n",
    "\n",
    "# Remove unused column\n",
    "commercial = commercial.drop(['year_month'], axis=1)"
   ]
  },
  {
   "cell_type": "code",
   "execution_count": 4,
   "metadata": {
    "collapsed": true
   },
   "outputs": [],
   "source": [
    "'''\n",
    "Issued Construction Permits\n",
    "'''\n",
    "# Read in Issued Construction Permits data file\n",
    "permits = pd.read_csv('/Users/nowellk/projects/water-austin/data/Issued_Construction_Permits.csv')\n",
    "\n",
    "# Filter for Finalized & Completed Residential Building Permitsonly\n",
    "permits = permits[permits['PermitType'] == 'BP']\n",
    "permits = permits[permits['PermitClassMapped'] == 'Residential']\n",
    "permits = permits[permits['StatusCurrent'] == 'Final']\n",
    "permits = permits[permits['CompletedDate'].isnull() == False]\n",
    "\n",
    "# Remove Commas in Numerical Strings and Cast as Integer\n",
    "permits['TotalJobValuation'] = permits.TotalJobValuation.str.replace(r'[^\\d\\.]','').astype(float).fillna(0.0).astype(int)\n",
    "permits['TotalNewAddSQFT'] = permits.TotalNewAddSQFT.str.replace(r'[^\\d\\.]','').astype(float).fillna(0.0).astype(int)\n",
    "permits['NumberOfFloors'] = permits.NumberOfFloors.str.replace(r'[^\\d\\.]','').fillna(0.0).astype(int)\n",
    "permits['HousingUnits'] = permits.HousingUnits.str.replace(r'[^\\d\\.]','').fillna(0.0).astype(int)\n",
    "\n",
    "# Cast Postal Code as Integer\n",
    "permits['OriginalZip'] = permits.OriginalZip.fillna(0.0).astype(int)\n",
    "\n",
    "# Recognize Date Formats\n",
    "permits['AppliedDate'] =  pd.to_datetime(permits['AppliedDate'], format = '%Y/%m/%d')\n",
    "permits['IssuedDate'] = pd.to_datetime(permits['IssuedDate'], format = '%Y/%m/%d')\n",
    "permits['StatusDate'] = pd.to_datetime(permits['StatusDate'], format = '%m/%d/%Y')\n",
    "permits['ExpiresDate'] = pd.to_datetime(permits['ExpiresDate'], format = '%Y/%m/%d')\n",
    "permits['CompletedDate'] = pd.to_datetime(permits['CompletedDate'], format = '%Y/%m/%d')"
   ]
  },
  {
   "cell_type": "code",
   "execution_count": 5,
   "metadata": {
    "collapsed": true
   },
   "outputs": [],
   "source": [
    "# Calculate Effect Month and Year from Completion Date with a lag by Month\n",
    "LAG = 5\n",
    "permits['CompletedDatePlusLag'] = permits.CompletedDate + pd.offsets.MonthOffset(LAG)\n",
    "\n",
    "# Create Effect Month and Year Columns\n",
    "permits['EffectYear'] = permits.CompletedDatePlusLag.dt.year.astype(int)\n",
    "permits['EffectMonth'] = permits.CompletedDatePlusLag.dt.month.astype(int)\n",
    "\n",
    "# Filter out Data with Effect Year prior to 2012\n",
    "permits = permits[permits['EffectYear'] >= 2012]"
   ]
  },
  {
   "cell_type": "code",
   "execution_count": 6,
   "metadata": {
    "collapsed": true
   },
   "outputs": [],
   "source": [
    "'''\n",
    "Aggregate permit data by Zip Code, Year and Month (for join with consumption data)\n",
    "'''\n",
    "# Filter to only numerical features\n",
    "#OG filtered_permits = permits[['HousingUnits','NumberOfFloors', 'OriginalZip','TotalNewAddSQFT','EffectYear','EffectMonth']]\n",
    "filtered_permits = permits[['OriginalZip','HousingUnits','TotalNewAddSQFT','EffectYear','EffectMonth']]\n",
    "\n",
    "# Aggregate permit data by Zip Code, Year and Month (for join with consumption data)\n",
    "agg_permits = filtered_permits.groupby(['OriginalZip', 'EffectYear', 'EffectMonth'], as_index=False).sum()"
   ]
  },
  {
   "cell_type": "code",
   "execution_count": 7,
   "metadata": {
    "collapsed": true
   },
   "outputs": [],
   "source": [
    "'''\n",
    "MERGE DATA SETS\n",
    "'''\n",
    "# Left Join on residential water consumption data with permits data\n",
    "merged = pd.merge(residential, agg_permits, how='left', left_on=['postal_code','year','month'], right_on =['OriginalZip', 'EffectYear','EffectMonth'])\n",
    "\n",
    "# Drop Postal Code, Effect Year and Month that came from permits data\n",
    "merged = merged.drop(['OriginalZip', 'EffectYear', 'EffectMonth'], axis=1)\n",
    "\n",
    "# Fill NAs from permits data as Zero\n",
    "merged = merged.fillna(0)"
   ]
  },
  {
   "cell_type": "code",
   "execution_count": 8,
   "metadata": {
    "collapsed": true
   },
   "outputs": [],
   "source": [
    "'''\n",
    "TRAIN TEST SPLIT\n",
    "'''\n",
    "train = merged[merged['year'].isin([2012, 2013, 2014, 2015])]\n",
    "test = merged[merged['year'].isin([2016, 2017])]\n",
    "train = pd.get_dummies(train, columns=['postal_code','customer_class'], drop_first=True)\n",
    "test = pd.get_dummies(test, columns=['postal_code','customer_class'], drop_first=True)\n",
    "y_train = train.pop('total_gallons').values\n",
    "X_train = train.values\n",
    "y_test = test.pop('total_gallons').values\n",
    "X_test = test.values"
   ]
  },
  {
   "cell_type": "code",
   "execution_count": 9,
   "metadata": {},
   "outputs": [
    {
     "name": "stdout",
     "output_type": "stream",
     "text": [
      "rf train 0.991758853635\n",
      "rf test 0.951736261775\n"
     ]
    }
   ],
   "source": [
    "'''\n",
    "MODEL\n",
    "'''\n",
    "rf = RandomForestRegressor()\n",
    "rf.fit(X_train, y_train)\n",
    "print(\"rf train\", rf.score(X_train, y_train))\n",
    "print(\"rf test\",rf.score(X_test, y_test))\n",
    "\n",
    "#5 month lag - rf train 0.989703489362\n",
    "#5 month lag - rf test 0.938268638009\n",
    "#5 rf train 0.991609345646\n",
    "#5 rf test 0.942552660331"
   ]
  },
  {
   "cell_type": "code",
   "execution_count": 10,
   "metadata": {},
   "outputs": [
    {
     "name": "stdout",
     "output_type": "stream",
     "text": [
      "basic rf train 0.995956458268\n",
      "basic rf test 0.968408205669\n"
     ]
    }
   ],
   "source": [
    "'''\n",
    "RESIDUALS\n",
    "'''\n",
    "residential_train = residential[residential['year'].isin([2012, 2013, 2014, 2015])]\n",
    "residential_test = residential[residential['year'].isin([2016, 2017])]\n",
    "residential_train = pd.get_dummies(residential_train, columns=['postal_code','customer_class'], drop_first=True)\n",
    "residential_test = pd.get_dummies(residential_test, columns=['postal_code','customer_class'], drop_first=True)\n",
    "y_trainR = residential_train.pop('total_gallons').values\n",
    "X_trainR = residential_train.values\n",
    "y_testR = residential_test.pop('total_gallons').values\n",
    "X_testR = residential_test.values\n",
    "\n",
    "rf_basic = RandomForestRegressor()\n",
    "rf_basic.fit(X_trainR, y_trainR)\n",
    "print(\"basic rf train\", rf_basic.score(X_trainR, y_trainR))\n",
    "y_test_predict = rf_basic.predict(X_testR)\n",
    "print(\"basic rf test\",rf_basic.score(X_testR, y_testR))\n",
    "\n",
    "y_train_predict = rf_basic.predict(X_trainR)\n",
    "y_test_predict = rf_basic.predict(X_testR)\n",
    "train_residuals = y_trainR - y_train_predict\n",
    "test_residuals = y_testR - y_test_predict"
   ]
  },
  {
   "cell_type": "code",
   "execution_count": 11,
   "metadata": {},
   "outputs": [
    {
     "name": "stdout",
     "output_type": "stream",
     "text": [
      "rf train 0.844879121995\n",
      "rf test -0.347568005955\n"
     ]
    }
   ],
   "source": [
    "'''\n",
    "RESIDUALS MODEL\n",
    "'''\n",
    "residuals_rf = RandomForestRegressor()\n",
    "residuals_rf.fit(X_train, train_residuals)\n",
    "print(\"rf train\",residuals_rf.score(X_train, train_residuals))\n",
    "print(\"rf test\",residuals_rf.score(X_test, test_residuals))\n",
    "#rf train 0.8265341154079149\n",
    "#rf test -0.2437383748224453"
   ]
  },
  {
   "cell_type": "code",
   "execution_count": 13,
   "metadata": {},
   "outputs": [
    {
     "name": "stdout",
     "output_type": "stream",
     "text": [
      "r2 train baseline: 0.995956458268\n",
      "r2 test baseline: 0.968408205669\n",
      "r2 train baseline + res model: 0.999372770215\n",
      "r2 test baseline + res model: 0.957551165065\n"
     ]
    }
   ],
   "source": [
    "y_train_residusal_pred = residuals_rf.predict(X_train)\n",
    "y_test_residual_pred = residuals_rf.predict(X_test)\n",
    "\n",
    "print(\"r2 train baseline:\", r2_score(y_train, y_train_predict))\n",
    "print(\"r2 test baseline:\", r2_score(y_test, y_test_predict))\n",
    "print(\"r2 train baseline + res model:\", r2_score(y_train, y_train_predict+y_train_residusal_pred))\n",
    "print(\"r2 test baseline + res model:\", r2_score(y_test, y_test_predict+y_test_residual_pred))"
   ]
  },
  {
   "cell_type": "code",
   "execution_count": 14,
   "metadata": {
    "collapsed": true
   },
   "outputs": [],
   "source": [
    "'''\n",
    "Building Permit Model using full data sets\n",
    "'''\n",
    "full = merged.copy()\n",
    "full = pd.get_dummies(full, columns=['postal_code','customer_class'], drop_first=True)\n",
    "y = full.pop('total_gallons').values\n",
    "X = full.values\n"
   ]
  },
  {
   "cell_type": "code",
   "execution_count": 15,
   "metadata": {},
   "outputs": [
    {
     "name": "stdout",
     "output_type": "stream",
     "text": [
      "rf accuracy 0.993347439618\n"
     ]
    }
   ],
   "source": [
    "rf = RandomForestRegressor()\n",
    "rf.fit(X, y)\n",
    "print(\"rf accuracy\",rf.score(X, y))"
   ]
  },
  {
   "cell_type": "code",
   "execution_count": 16,
   "metadata": {},
   "outputs": [
    {
     "data": {
      "text/plain": [
       "Text(0.5,1,'Residential Model - Total Gallons')"
      ]
     },
     "execution_count": 16,
     "metadata": {},
     "output_type": "execute_result"
    },
    {
     "data": {
      "image/png": "[encoded data removed]",
      "text/plain": [
       "<matplotlib.figure.Figure at 0x1a4c174128>"
      ]
     },
     "metadata": {},
     "output_type": "display_data"
    }
   ],
   "source": [
    "predictions = rf.predict(X)\n",
    "plt.scatter(y, predictions)\n",
    "plt.xlabel('Actual Values')\n",
    "plt.ylabel('Predictions')\n",
    "plt.title('Residential Model - Total Gallons')\n",
    "# Set limits and labels\n",
    "#ax.set_xlim([-10000, 140000])\n",
    "# measurement for a period / run original data then build model between predicted value and actual / \n",
    "# make get residuals then make that my target "
   ]
  },
  {
   "cell_type": "code",
   "execution_count": null,
   "metadata": {},
   "outputs": [],
   "source": []
  },
  {
   "cell_type": "code",
   "execution_count": null,
   "metadata": {},
   "outputs": [],
   "source": []
  },
  {
   "cell_type": "code",
   "execution_count": null,
   "metadata": {
    "collapsed": true
   },
   "outputs": [],
   "source": []
  }
 ],
 "metadata": {
  "kernelspec": {
   "display_name": "Python 3",
   "language": "python",
   "name": "python3"
  },
  "language_info": {
   "codemirror_mode": {
    "name": "ipython",
    "version": 3
   },
   "file_extension": ".py",
   "mimetype": "text/x-python",
   "name": "python",
   "nbconvert_exporter": "python",
   "pygments_lexer": "ipython3",
   "version": "3.6.5"
  }
 },
 "nbformat": 4,
 "nbformat_minor": 2
}
